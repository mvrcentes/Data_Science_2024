{
  "cells": [
    {
      "cell_type": "markdown",
      "metadata": {
        "id": "2DCyLU73DBCr"
      },
      "source": [
        "# Sistema de recomendación Spotify"
      ]
    },
    {
      "cell_type": "markdown",
      "metadata": {
        "id": "OvHipSTECMFZ"
      },
      "source": []
    },
    {
      "cell_type": "markdown",
      "metadata": {},
      "source": [
        "# Análisis exploratorio"
      ]
    },
    {
      "cell_type": "markdown",
      "metadata": {
        "id": "1AGUIXGFDWFO"
      },
      "source": [
        "## Instalar e importar librerías necesarias"
      ]
    },
    {
      "cell_type": "markdown",
      "metadata": {
        "id": "DD6zQSbADfrV"
      },
      "source": [
        "### Librerias generales"
      ]
    },
    {
      "cell_type": "code",
      "execution_count": 16,
      "metadata": {
        "id": "dTVN0AyXDh4b"
      },
      "outputs": [],
      "source": [
        "import json\n",
        "from pathlib import Path as Data_Path\n",
        "import os\n",
        "from os.path import isfile, join\n",
        "import pickle\n",
        "import random\n",
        "\n",
        "import numpy as np\n",
        "import networkx as nx\n",
        "import pandas as pd\n",
        "from sklearn.metrics import f1_score, roc_auc_score\n",
        "import matplotlib.pyplot as plt\n",
        "%matplotlib inline\n",
        "\n",
        "from tqdm.notebook import tqdm\n",
        "from tqdm import tqdm"
      ]
    },
    {
      "cell_type": "markdown",
      "metadata": {
        "id": "mY-_3lgkDnOw"
      },
      "source": [
        "### Librerías de ML"
      ]
    },
    {
      "cell_type": "code",
      "execution_count": 14,
      "metadata": {
        "colab": {
          "base_uri": "https://localhost:8080/"
        },
        "id": "czvj5kMsDpWI",
        "outputId": "8a89500e-040d-4275-96cf-77f8a10cc362"
      },
      "outputs": [
        {
          "name": "stdout",
          "output_type": "stream",
          "text": [
            "Torch version: 2.4.1; Torch-cuda version: None; Torch Geometric version: 2.6.1.\n"
          ]
        }
      ],
      "source": [
        "from typing import Optional, Union\n",
        "\n",
        "import torch\n",
        "from torch import Tensor\n",
        "import torch.nn as nn\n",
        "from torch.nn import Embedding, ModuleList, Linear\n",
        "import torch.nn.functional as F\n",
        "\n",
        "import torch_geometric\n",
        "import torch_geometric.nn as pyg_nn\n",
        "from torch_geometric.data import Data\n",
        "from torch_geometric.transforms import RandomLinkSplit\n",
        "from torch.nn.modules.loss import _Loss\n",
        "\n",
        "from torch_geometric.nn.conv import LGConv, GATConv, SAGEConv\n",
        "from torch_geometric.typing import Adj, OptTensor, SparseTensor\n",
        "\n",
        "import ipywidgets as widgets\n",
        "widgets.IntSlider()\n",
        "from tqdm.notebook import tqdm\n",
        "\n",
        "\n",
        "\n",
        "print(f\"Torch version: {torch.__version__}; Torch-cuda version: {torch.version.cuda}; Torch Geometric version: {torch_geometric.__version__}.\")"
      ]
    },
    {
      "cell_type": "markdown",
      "metadata": {
        "id": "iepMD0ZoEC4d"
      },
      "source": [
        "Creación de una semilla"
      ]
    },
    {
      "cell_type": "code",
      "execution_count": 5,
      "metadata": {
        "id": "Bwi8BG6QEIq6"
      },
      "outputs": [],
      "source": [
        "# set the seed for reproducibility\n",
        "seed = 224\n",
        "torch.manual_seed(seed)\n",
        "np.random.seed(seed)\n",
        "random.seed(seed)"
      ]
    },
    {
      "cell_type": "markdown",
      "metadata": {
        "id": "TSPMLVkPELQr"
      },
      "source": [
        "## Cargar y procesar los datos"
      ]
    },
    {
      "cell_type": "markdown",
      "metadata": {
        "id": "GLvoGd6UCl3j"
      },
      "source": [
        "Link de los datos https://www.aicrowd.com/challenges/spotify-million-playlist-dataset-challenge/dataset_files"
      ]
    },
    {
      "cell_type": "code",
      "execution_count": 6,
      "metadata": {},
      "outputs": [],
      "source": [
        "DATA_DIR = \"./spotify_million_playlist_dataset/data/\""
      ]
    },
    {
      "cell_type": "code",
      "execution_count": 7,
      "metadata": {},
      "outputs": [
        {
          "name": "stdout",
          "output_type": "stream",
          "text": [
            "{'name': 'Bob Dylan', 'collaborative': 'false', 'pid': 549000, 'modified_at': 1454803200, 'num_tracks': 75, 'num_albums': 65, 'num_followers': 1, 'tracks': [{'pos': 0, 'artist_name': 'Bob Dylan', 'track_uri': 'spotify:track:6QHYEZlm9wyfXfEM1vSu1P', 'artist_uri': 'spotify:artist:74ASZWbe4lXaubB36ztrGX', 'track_name': 'Boots of Spanish Leather', 'album_uri': 'spotify:album:7DZeLXvr9eTVpyI1OlqtcS', 'duration_ms': 277106, 'album_name': \"The Times They Are A-Changin'\"}, {'pos': 1, 'artist_name': 'Bob Dylan', 'track_uri': 'spotify:track:3RkQ3UwOyPqpIiIvGVewuU', 'artist_uri': 'spotify:artist:74ASZWbe4lXaubB36ztrGX', 'track_name': 'Mr. Tambourine Man', 'album_uri': 'spotify:album:1lPoRKSgZHQAYXxzBsOQ7v', 'duration_ms': 330533, 'album_name': 'Bringing It All Back Home'}, {'pos': 2, 'artist_name': 'Loggins & Messina', 'track_uri': 'spotify:track:0ju1jP0cSPJ8tmojYBEI89', 'artist_uri': 'spotify:artist:7emRV8AluG3d4e5T0DZiK9', 'track_name': \"Danny's Song\", 'album_uri': 'spotify:album:5BWgJaesMjpJWCTU9sgUPf', 'duration_ms': 254653, 'album_name': \"The Best: Loggins & Messina Sittin' In Again\"}, {'pos': 3, 'artist_name': 'Bob Dylan', 'track_uri': 'spotify:track:7ny2ATvjtKszCpLpfsGnVQ', 'artist_uri': 'spotify:artist:74ASZWbe4lXaubB36ztrGX', 'track_name': \"A Hard Rain's A-Gonna Fall\", 'album_uri': 'spotify:album:0o1uFxZ1VTviqvNaYkTJek', 'duration_ms': 412200, 'album_name': \"The Freewheelin' Bob Dylan\"}, {'pos': 4, 'artist_name': 'Bob Dylan', 'track_uri': 'spotify:track:18GiV1BaXzPVYpp9rmOg0E', 'artist_uri': 'spotify:artist:74ASZWbe4lXaubB36ztrGX', 'track_name': \"Blowin' In the Wind\", 'album_uri': 'spotify:album:0o1uFxZ1VTviqvNaYkTJek', 'duration_ms': 165426, 'album_name': \"The Freewheelin' Bob Dylan\"}, {'pos': 5, 'artist_name': 'Bob Dylan', 'track_uri': 'spotify:track:0wfBooQ6QtDm63UIyIcDIj', 'artist_uri': 'spotify:artist:74ASZWbe4lXaubB36ztrGX', 'track_name': 'John Wesley Harding', 'album_uri': 'spotify:album:2KzCDxKpgLqBffHu1IZ7Kn', 'duration_ms': 177200, 'album_name': 'John Wesley Harding'}, {'pos': 6, 'artist_name': 'Bob Dylan', 'track_uri': 'spotify:track:3xNO6JUk9ySYjxuqzcZYRB', 'artist_uri': 'spotify:artist:74ASZWbe4lXaubB36ztrGX', 'track_name': 'If You See Her, Say Hello', 'album_uri': 'spotify:album:4WD4pslu83FF6oMa1e19mF', 'duration_ms': 288000, 'album_name': 'Blood On The Tracks'}, {'pos': 7, 'artist_name': 'Bob Dylan', 'track_uri': 'spotify:track:5ka7NFOlZUpVLJmA2tO0o4', 'artist_uri': 'spotify:artist:74ASZWbe4lXaubB36ztrGX', 'track_name': \"Bob Dylan's 115th Dream\", 'album_uri': 'spotify:album:1lPoRKSgZHQAYXxzBsOQ7v', 'duration_ms': 389800, 'album_name': 'Bringing It All Back Home'}, {'pos': 8, 'artist_name': 'Bob Dylan', 'track_uri': 'spotify:track:2FDTgrYDUdQKyGmtynEk90', 'artist_uri': 'spotify:artist:74ASZWbe4lXaubB36ztrGX', 'track_name': 'Love Minus Zero', 'album_uri': 'spotify:album:1lPoRKSgZHQAYXxzBsOQ7v', 'duration_ms': 171106, 'album_name': 'Bringing It All Back Home'}, {'pos': 9, 'artist_name': 'The Lumineers', 'track_uri': 'spotify:track:2GbmNHjKB1HxSnyobburxg', 'artist_uri': 'spotify:artist:16oZKvXb6WkQlVAjwo2Wbg', 'track_name': 'Classy Girls', 'album_uri': 'spotify:album:5h7fx8ILwOZ3I5yQ4eGBl7', 'duration_ms': 165933, 'album_name': 'The Lumineers'}, {'pos': 10, 'artist_name': 'Bob Dylan', 'track_uri': 'spotify:track:4K1imZQQ0yKtJ40vGmUajS', 'artist_uri': 'spotify:artist:74ASZWbe4lXaubB36ztrGX', 'track_name': 'Girl from the North Country', 'album_uri': 'spotify:album:5WBx64FIN04CvM2T1MGrUN', 'duration_ms': 220400, 'album_name': 'Nashville Skyline'}, {'pos': 11, 'artist_name': 'JAY Z', 'track_uri': 'spotify:track:73AElRO42LtQlBId3tA2Oh', 'artist_uri': 'spotify:artist:3nFkdlSjzX9mRTtwJOzDYB', 'track_name': \"03' Bonnie & Clyde\", 'album_uri': 'spotify:album:6Zb63BocV9Por1mJIYrDXP', 'duration_ms': 205560, 'album_name': 'The Blueprint 2 The Gift & The Curse'}, {'pos': 12, 'artist_name': 'Luis Fonsi', 'track_uri': 'spotify:track:3CPRPpkv2p7r3EYdYM7jF3', 'artist_uri': 'spotify:artist:4V8Sr092TqfHkfAA5fXXqG', 'track_name': 'Que Quieres De Mi', 'album_uri': 'spotify:album:6y31iVGrIxg1YZ4Elcgko3', 'duration_ms': 274213, 'album_name': '8'}, {'pos': 13, 'artist_name': 'Parra for Cuva', 'track_uri': 'spotify:track:3mWFl8hFKRLl6IuY5ayi3b', 'artist_uri': 'spotify:artist:238y1dKPtMeFEpX3Y6H1Vr', 'track_name': 'Wicked Games', 'album_uri': 'spotify:album:29O6CotpIYRJj61l842Ec7', 'duration_ms': 358573, 'album_name': 'Wicked Games'}, {'pos': 14, 'artist_name': 'The Lumineers', 'track_uri': 'spotify:track:5OFcjrC1OiRSBylQgF5HDD', 'artist_uri': 'spotify:artist:16oZKvXb6WkQlVAjwo2Wbg', 'track_name': 'Slow It Down', 'album_uri': 'spotify:album:0nRgsLe1she16l3pclpyy7', 'duration_ms': 307000, 'album_name': 'The Lumineers'}, {'pos': 15, 'artist_name': 'Bee Gees', 'track_uri': 'spotify:track:3aqTTareFsrd7gMeV7Qvif', 'artist_uri': 'spotify:artist:1LZEQNv7sE11VDY3SdxQeN', 'track_name': 'How Deep Is Your Love', 'album_uri': 'spotify:album:684Fi6YqIP9xU9JeboAgVM', 'duration_ms': 245200, 'album_name': 'Greatest'}, {'pos': 16, 'artist_name': 'Maná', 'track_uri': 'spotify:track:3YmA3gZqlXl0MkwhkVKxRy', 'artist_uri': 'spotify:artist:7okwEbXzyT2VffBmyQBWLz', 'track_name': 'Mi verdad - feat. Shakira', 'album_uri': 'spotify:album:36lGlwe75fTsr4CLVlfYQa', 'duration_ms': 272576, 'album_name': 'Cama Incendiada'}, {'pos': 17, 'artist_name': 'Henry Mancini', 'track_uri': 'spotify:track:5iGleL7HpEThuuYQ3us2jh', 'artist_uri': 'spotify:artist:2EExdpjU4SK3xnJHO5paJf', 'track_name': 'Moon River(Vocal Audrey Hepburn)', 'album_uri': 'spotify:album:53mCG3mQnybqhQfgH5ULUK', 'duration_ms': 125585, 'album_name': \"Breakfast At Tiffany's (50th Anniversary Edition)\"}, {'pos': 18, 'artist_name': 'Frank Sinatra', 'track_uri': 'spotify:track:4tsUpfcr6bSM4PIIFQGkQF', 'artist_uri': 'spotify:artist:1Mxqyy3pSjf8kZZL4QVxS0', 'track_name': \"I've Got The World On A String\", 'album_uri': 'spotify:album:0Cx7IYEdG2T70z9xFknhDT', 'duration_ms': 129813, 'album_name': 'Ultimate Sinatra'}, {'pos': 19, 'artist_name': 'Elvis Presley', 'track_uri': 'spotify:track:47y8hRlWLEJ4VafE6LMjEZ', 'artist_uri': 'spotify:artist:43ZHCT0cAZBISjO8DG9PnE', 'track_name': 'A Little Less Conversation', 'album_uri': 'spotify:album:3X3rFfVKCW58sKMO0UXkwO', 'duration_ms': 132013, 'album_name': 'The Essential Elvis Presley'}, {'pos': 20, 'artist_name': 'Elvis Presley', 'track_uri': 'spotify:track:0tHcXWIYt99GY8BONrPIfA', 'artist_uri': 'spotify:artist:43ZHCT0cAZBISjO8DG9PnE', 'track_name': \"That's All Right\", 'album_uri': 'spotify:album:1NVsMlJgD5GHf0CT1IewbU', 'duration_ms': 115280, 'album_name': 'For LP Fans Only'}, {'pos': 21, 'artist_name': 'Billy Joel', 'track_uri': 'spotify:track:78WVLOP9pN0G3gRLFy1rAa', 'artist_uri': 'spotify:artist:6zFYqv1mOsgBRQbae3JJ9e', 'track_name': 'Piano Man', 'album_uri': 'spotify:album:77ErLrVvYETIlQJHAwhfIH', 'duration_ms': 336200, 'album_name': 'Piano Man'}, {'pos': 22, 'artist_name': 'Billy Joel', 'track_uri': 'spotify:track:6yjKlmm7vOszkXEUku1EM1', 'artist_uri': 'spotify:artist:6zFYqv1mOsgBRQbae3JJ9e', 'track_name': 'New York State of Mind', 'album_uri': 'spotify:album:7GiLfxL1su3MSqz7pmKMZi', 'duration_ms': 362400, 'album_name': 'Turnstiles'}, {'pos': 23, 'artist_name': 'UB40', 'track_uri': 'spotify:track:7ojJ4XvqBhBcteM0zjMebT', 'artist_uri': 'spotify:artist:69MEO1AADKg1IZrq2XLzo5', 'track_name': \"(I Can't Help) Falling in Love With You\", 'album_uri': 'spotify:album:0B0RuH2PSWoEkIvi75xY5d', 'duration_ms': 207440, 'album_name': 'Promises And Lies'}, {'pos': 24, 'artist_name': 'The Turtles', 'track_uri': 'spotify:track:1JO1xLtVc8mWhIoE3YaCL0', 'artist_uri': 'spotify:artist:2VIoWte1HPDbZ2WqHd2La7', 'track_name': 'Happy Together', 'album_uri': 'spotify:album:2pMxs38Y5A0mmHrcu3twvB', 'duration_ms': 176293, 'album_name': 'Happy Together'}, {'pos': 25, 'artist_name': 'REO Speedwagon', 'track_uri': 'spotify:track:5ZeKZBB57EnctaXih6hJvE', 'artist_uri': 'spotify:artist:55vs7NT1KxcFjbMC4y202E', 'track_name': 'In My Dreams', 'album_uri': 'spotify:album:5Yd9XNS5qG8edw1eBNHdok', 'duration_ms': 270226, 'album_name': 'Life As We Know It'}, {'pos': 26, 'artist_name': 'REO Speedwagon', 'track_uri': 'spotify:track:4rcHWl68ai6KvpXlc8vbnE', 'artist_uri': 'spotify:artist:55vs7NT1KxcFjbMC4y202E', 'track_name': 'Keep on Loving You - Remastered', 'album_uri': 'spotify:album:0X4ZNTZw7SYgrp5rlBQC3N', 'duration_ms': 200293, 'album_name': 'Hi Infidelity (30th Anniversary Edition)'}, {'pos': 27, 'artist_name': 'Frank Sinatra', 'track_uri': 'spotify:track:3cVWNLd0uEHkc2tnBoE3Ay', 'artist_uri': 'spotify:artist:1Mxqyy3pSjf8kZZL4QVxS0', 'track_name': \"Somethin' Stupid\", 'album_uri': 'spotify:album:00vMwG6tYLzcwXgwvzlzyK', 'duration_ms': 162493, 'album_name': 'The World We Knew'}, {'pos': 28, 'artist_name': 'Fred Astaire', 'track_uri': 'spotify:track:1o7eWtDb0VJGQ6rqECTiSF', 'artist_uri': 'spotify:artist:4BtDAwCZhR6nPrJtbVgQNX', 'track_name': 'The Way You Look Tonight', 'album_uri': 'spotify:album:35axek5MTUOvAFxz5XB4YW', 'duration_ms': 189753, 'album_name': 'Fred Astaire In Hollywood'}, {'pos': 29, 'artist_name': 'Frank Sinatra', 'track_uri': 'spotify:track:5RLzsVW6UNiV2YrOlKwzNN', 'artist_uri': 'spotify:artist:1Mxqyy3pSjf8kZZL4QVxS0', 'track_name': 'Blue Moon - 1998 Digital Remaster', 'album_uri': 'spotify:album:0rnnzYSJbxKoxcp9U5I2zF', 'duration_ms': 171426, 'album_name': \"Sinatra's Swingin' Session!!! And More\"}, {'pos': 30, 'artist_name': 'Ray LaMontagne', 'track_uri': 'spotify:track:1U1GtaJeYwGsPgqV9Me5bb', 'artist_uri': 'spotify:artist:6DoH7ywD5BcQvjloe9OcIj', 'track_name': 'Hold You in My Arms', 'album_uri': 'spotify:album:2DQHgaOMVOs2OKLaksiMx9', 'duration_ms': 306200, 'album_name': 'Trouble'}, {'pos': 31, 'artist_name': 'REO Speedwagon', 'track_uri': 'spotify:track:5WwqdeavrQrbeAMDxGawse', 'artist_uri': 'spotify:artist:55vs7NT1KxcFjbMC4y202E', 'track_name': \"Can't Fight This Feeling\", 'album_uri': 'spotify:album:35KafpmKh0nDLzBLV75MpR', 'duration_ms': 294773, 'album_name': \"Wheels Are Turnin'\"}, {'pos': 32, 'artist_name': 'Bob Dylan', 'track_uri': 'spotify:track:7IuEjrhTNqxzm3dcINDH7V', 'artist_uri': 'spotify:artist:74ASZWbe4lXaubB36ztrGX', 'track_name': 'Shooting Star', 'album_uri': 'spotify:album:18ue4s9PsV3WBw7kkzD689', 'duration_ms': 193000, 'album_name': 'Oh Mercy'}, {'pos': 33, 'artist_name': 'Aerosmith', 'track_uri': 'spotify:track:0c1gHntWjKD7QShC8s99sq', 'artist_uri': 'spotify:artist:7Ey4PD4MYsKc5I2dolUwbH', 'track_name': 'I Don\\'t Want to Miss a Thing - From the Touchstone film, \"Armageddon\"', 'album_uri': 'spotify:album:616UgaZTc454Gu0aXxVH3K', 'duration_ms': 299760, 'album_name': \"I Don't Want To Miss A Thing\"}, {'pos': 34, 'artist_name': 'Brad Paisley', 'track_uri': 'spotify:track:3XKbdb9GB6u3hsnUklQTav', 'artist_uri': 'spotify:artist:13YmWQJFwgZrd4bf5IjMY4', 'track_name': 'Then', 'album_uri': 'spotify:album:0GCQzPEkcFv8bR90sJf41x', 'duration_ms': 321640, 'album_name': 'American Saturday Night'}, {'pos': 35, 'artist_name': 'Coldplay', 'track_uri': 'spotify:track:1lxzBK93CioCcSndzuTGyn', 'artist_uri': 'spotify:artist:4gzpq5DPGxSnKTe4SA8HAU', 'track_name': 'Us Against the World', 'album_uri': 'spotify:album:5GykKNn2KjofEoA8SpNnuw', 'duration_ms': 239767, 'album_name': 'Mylo Xyloto'}, {'pos': 36, 'artist_name': 'Eric Church', 'track_uri': 'spotify:track:6HLciiLMPssno4lT4gbObT', 'artist_uri': 'spotify:artist:2IvkS5MXK0vPGnwyJsrEyV', 'track_name': 'Love Your Love the Most', 'album_uri': 'spotify:album:0QZc1pzqelwhdKftQQDdUw', 'duration_ms': 170386, 'album_name': 'Carolina'}, {'pos': 37, 'artist_name': 'Bo Bice', 'track_uri': 'spotify:track:3T3Epzn2xHawkZ7uzxR13p', 'artist_uri': 'spotify:artist:2Q1FIPavG8WZF33kqIP3sy', 'track_name': 'The Real Thing', 'album_uri': 'spotify:album:4g0TGHOAnACPsqCwSoOR4m', 'duration_ms': 201666, 'album_name': 'The Real Thing'}, {'pos': 38, 'artist_name': 'The Byrds', 'track_uri': 'spotify:track:5995dMCC91V6Gmgt5u0FUh', 'artist_uri': 'spotify:artist:1PCZpxHJz7WAMF8EEq8bfc', 'track_name': 'Lay Lady Lay - Alternative Version', 'album_uri': 'spotify:album:7ff89eny79BV8Rf4GcdZLn', 'duration_ms': 197733, 'album_name': 'Dr. Byrds And Mr. Hyde'}, {'pos': 39, 'artist_name': 'Jim Sturgess', 'track_uri': 'spotify:track:6ME5FEytYm8AJNu94xX4RL', 'artist_uri': 'spotify:artist:15cfE4nzURJUvrUyqsrMuF', 'track_name': 'All My Loving - From \"Across The Universe\" Soundtrack', 'album_uri': 'spotify:album:18nf6cYVWv09j9DEUKv7qO', 'duration_ms': 146573, 'album_name': 'Across The Universe'}, {'pos': 40, 'artist_name': '*NSYNC', 'track_uri': 'spotify:track:2UpmD3nDZFD4JrsSPMNqzU', 'artist_uri': 'spotify:artist:6Ff53KvcvAj5U7Z1vojB5o', 'track_name': 'It Makes Me Ill', 'album_uri': 'spotify:album:5hMd4vAfSUT1cbYCnRUako', 'duration_ms': 205800, 'album_name': 'No Strings Attached'}, {'pos': 41, 'artist_name': 'Ingrid Michaelson', 'track_uri': 'spotify:track:5GBWQszdw6PtAN0Negzut6', 'artist_uri': 'spotify:artist:2vm8GdHyrJh2O2MfbQFYG0', 'track_name': \"Can't Help Falling In Love - Recorded Live at Daytrotter\", 'album_uri': 'spotify:album:7o2VLivg95UduHjTMTIEIf', 'duration_ms': 193946, 'album_name': 'Be OK'}, {'pos': 42, 'artist_name': 'John Mayer', 'track_uri': 'spotify:track:26PnyFUmYdeRG7nQrsTpHc', 'artist_uri': 'spotify:artist:0hEurMDQu99nJRq8pTxO14', 'track_name': 'Comfortable - EP Version', 'album_uri': 'spotify:album:5KMP6XLSrhsswEuN2A9VO2', 'duration_ms': 299333, 'album_name': 'Inside Wants Out'}, {'pos': 43, 'artist_name': 'Ariana Grande', 'track_uri': 'spotify:track:45wBTYlOx3FsuFluuuRRQh', 'artist_uri': 'spotify:artist:66CXWjxzNUsdJxJ2JdwvnR', 'track_name': 'Love Me Harder', 'album_uri': 'spotify:album:2ZnzBwKw4e2SHpGvOTWnj4', 'duration_ms': 236133, 'album_name': 'My Everything'}, {'pos': 44, 'artist_name': 'Train', 'track_uri': 'spotify:track:2SkJxGM4yeADszDjUzffOf', 'artist_uri': 'spotify:artist:3FUY2gzHeIiaesXtOAdB7A', 'track_name': \"This Ain't Goodbye\", 'album_uri': 'spotify:album:7tEPbuzTMNGSytEMdezXtS', 'duration_ms': 263466, 'album_name': 'Save Me, San Francisco (Golden Gate Edition)'}, {'pos': 45, 'artist_name': 'The Hound + The Fox', 'track_uri': 'spotify:track:5n4OuxuViGp1DlMAv04gl3', 'artist_uri': 'spotify:artist:6KxrjoB8dMcRC295reb2Us', 'track_name': 'The Moon Song', 'album_uri': 'spotify:album:2uPDq5lnQsN8K6sKQ4Wzdw', 'duration_ms': 198000, 'album_name': 'Moon Songs: Lullabies for Baby and Parent'}, {'pos': 46, 'artist_name': 'John Mayer', 'track_uri': 'spotify:track:7hR5toSPEgwFZ78jfHdANM', 'artist_uri': 'spotify:artist:0hEurMDQu99nJRq8pTxO14', 'track_name': 'Half of My Heart', 'album_uri': 'spotify:album:1V5vQRMWTNGmqwxY8jMVou', 'duration_ms': 250373, 'album_name': 'Battle Studies'}, {'pos': 47, 'artist_name': 'John Mayer', 'track_uri': 'spotify:track:5gbxzSqABThINGDb7vIiwe', 'artist_uri': 'spotify:artist:0hEurMDQu99nJRq8pTxO14', 'track_name': 'Edge of Desire', 'album_uri': 'spotify:album:1V5vQRMWTNGmqwxY8jMVou', 'duration_ms': 332066, 'album_name': 'Battle Studies'}, {'pos': 48, 'artist_name': 'John Mayer', 'track_uri': 'spotify:track:6OXt9aSIr4DSxSR3Qjrtgp', 'artist_uri': 'spotify:artist:0hEurMDQu99nJRq8pTxO14', 'track_name': 'Assassin', 'album_uri': 'spotify:album:1V5vQRMWTNGmqwxY8jMVou', 'duration_ms': 314853, 'album_name': 'Battle Studies'}, {'pos': 49, 'artist_name': 'John Mayer', 'track_uri': 'spotify:track:7vFv0yFGMJW3qVXbAd9BK9', 'artist_uri': 'spotify:artist:0hEurMDQu99nJRq8pTxO14', 'track_name': 'Your Body Is a Wonderland', 'album_uri': 'spotify:album:3yHOaiXecTJVUdn7mApZ48', 'duration_ms': 249626, 'album_name': 'Room For Squares'}, {'pos': 50, 'artist_name': 'Billy Joel', 'track_uri': 'spotify:track:5zA8vzDGqPl2AzZkEYQGKh', 'artist_uri': 'spotify:artist:6zFYqv1mOsgBRQbae3JJ9e', 'track_name': 'Uptown Girl', 'album_uri': 'spotify:album:3R3x4zIabsvpD3yxqLaUpc', 'duration_ms': 197706, 'album_name': 'An Innocent Man'}, {'pos': 51, 'artist_name': 'Paul McCartney', 'track_uri': 'spotify:track:34jOBavlBgAG0ILZOlXmWm', 'artist_uri': 'spotify:artist:4STHEaNw4mPZ2tzheohgXB', 'track_name': 'Maybe I’m Amazed - Remastered 2011', 'album_uri': 'spotify:album:764Xck7VA3j2dZraTUI09H', 'duration_ms': 229826, 'album_name': 'McCartney'}, {'pos': 52, 'artist_name': 'Tim McGraw', 'track_uri': 'spotify:track:3LbvNFkqDTrE1liGMmZBDL', 'artist_uri': 'spotify:artist:6roFdX1y5BYSbp60OTJWMd', 'track_name': 'Shotgun Rider', 'album_uri': 'spotify:album:39ZUc3Efz2TH8RbPeDTMOB', 'duration_ms': 235386, 'album_name': 'Sundown Heaven Town'}, {'pos': 53, 'artist_name': 'John Mayer', 'track_uri': 'spotify:track:1IdTIzkTK6CcpKKgMUGbg7', 'artist_uri': 'spotify:artist:0hEurMDQu99nJRq8pTxO14', 'track_name': 'Vultures', 'album_uri': 'spotify:album:1Xsprdt1q9rOzTic7b9zYM', 'duration_ms': 250840, 'album_name': 'Continuum'}, {'pos': 54, 'artist_name': 'Bruce Springsteen', 'track_uri': 'spotify:track:0Tk2agqmwJajtoX6sCxngb', 'artist_uri': 'spotify:artist:3eqjTLE0HfPfh78zjh6TqT', 'track_name': 'Fire', 'album_uri': 'spotify:album:7oR8aZ4ECropTmxPydooZ9', 'duration_ms': 248640, 'album_name': 'The Promise'}, {'pos': 55, 'artist_name': 'Ed Sheeran', 'track_uri': 'spotify:track:6fxVffaTuwjgEk5h9QyRjy', 'artist_uri': 'spotify:artist:6eUKZXaKkcviH0Ku9w2n3V', 'track_name': 'Photograph', 'album_uri': 'spotify:album:6NoBzYmh5gUusGPCfg0pct', 'duration_ms': 258986, 'album_name': 'x'}, {'pos': 56, 'artist_name': 'Brad Paisley', 'track_uri': 'spotify:track:6jsvHrnb4TFp9X4Samx3jD', 'artist_uri': 'spotify:artist:13YmWQJFwgZrd4bf5IjMY4', 'track_name': \"She's Everything\", 'album_uri': 'spotify:album:5MQaOex0UOSUqbQolWKWjg', 'duration_ms': 266920, 'album_name': 'Original Album Classics'}, {'pos': 57, 'artist_name': 'Train', 'track_uri': 'spotify:track:4ocbH5ZJqajZIpUrqRUoue', 'artist_uri': 'spotify:artist:3FUY2gzHeIiaesXtOAdB7A', 'track_name': 'Meet Virginia', 'album_uri': 'spotify:album:01aoYWjhjshlHf5vJNYb03', 'duration_ms': 239933, 'album_name': 'Train'}, {'pos': 58, 'artist_name': 'Train', 'track_uri': 'spotify:track:689rf7CrI1hu6EqA7CBDrY', 'artist_uri': 'spotify:artist:3FUY2gzHeIiaesXtOAdB7A', 'track_name': 'Parachute', 'album_uri': 'spotify:album:7tEPbuzTMNGSytEMdezXtS', 'duration_ms': 210386, 'album_name': 'Save Me, San Francisco (Golden Gate Edition)'}, {'pos': 59, 'artist_name': 'Train', 'track_uri': 'spotify:track:2hKdd3qO7cWr2Jo0Bcs0MA', 'artist_uri': 'spotify:artist:3FUY2gzHeIiaesXtOAdB7A', 'track_name': 'Drops of Jupiter', 'album_uri': 'spotify:album:6j6Zgm7vzAZegr48UppFVT', 'duration_ms': 259933, 'album_name': 'Drops Of Jupiter'}, {'pos': 60, 'artist_name': 'James Taylor', 'track_uri': 'spotify:track:47cdhtxTfp7WvUbDpDeYa2', 'artist_uri': 'spotify:artist:0vn7UBvSQECKJm2817Yf1P', 'track_name': 'Sweet Baby James', 'album_uri': 'spotify:album:2NEQ5Q4sBbUHVVx3Wf8TEZ', 'duration_ms': 171093, 'album_name': 'Sweet Baby James'}, {'pos': 61, 'artist_name': 'Bob Dylan', 'track_uri': 'spotify:track:6rfGPGghQL7SJmZPXprXIc', 'artist_uri': 'spotify:artist:74ASZWbe4lXaubB36ztrGX', 'track_name': 'Make You Feel My Love', 'album_uri': 'spotify:album:185DHT5SvszXRrezx3lOjt', 'duration_ms': 211000, 'album_name': 'Time Out Of Mind'}, {'pos': 62, 'artist_name': 'Eric Church', 'track_uri': 'spotify:track:4KtUxe5qYZzw7ICJ8T8w2u', 'artist_uri': 'spotify:artist:2IvkS5MXK0vPGnwyJsrEyV', 'track_name': 'You Make It Look So Easy', 'album_uri': 'spotify:album:0QZc1pzqelwhdKftQQDdUw', 'duration_ms': 255280, 'album_name': 'Carolina'}, {'pos': 63, 'artist_name': 'Kenny Chesney', 'track_uri': 'spotify:track:050iNgNKEUrJboOnH4Jhm6', 'artist_uri': 'spotify:artist:3grHWM9bx2E9vwJCdlRv9O', 'track_name': 'Wild Child (with Grace Potter)', 'album_uri': 'spotify:album:2R5PAxygJ4YeRuSwoalKam', 'duration_ms': 189800, 'album_name': 'The Big Revival'}, {'pos': 64, 'artist_name': 'Crosby, Stills, Nash & Young', 'track_uri': 'spotify:track:2hitsKa8SthKhRJBXUHbIv', 'artist_uri': 'spotify:artist:1CYsQCypByMVgnv17qsSbQ', 'track_name': 'Our House', 'album_uri': 'spotify:album:5bHkK1X4WEOzNvRhehvOcb', 'duration_ms': 179760, 'album_name': 'Deja Vu'}, {'pos': 65, 'artist_name': 'Tom Petty', 'track_uri': 'spotify:track:5tVA6TkbaAH9QMITTQRrNv', 'artist_uri': 'spotify:artist:2UZMlIwnkgAEDBsw1Rejkn', 'track_name': \"Free Fallin'\", 'album_uri': 'spotify:album:5d71Imt5CIb7LpQwDMQ093', 'duration_ms': 256000, 'album_name': 'Full Moon Fever'}, {'pos': 66, 'artist_name': 'Frank Sinatra', 'track_uri': 'spotify:track:40tAOP3DPqmVD6L1h45Jp6', 'artist_uri': 'spotify:artist:1Mxqyy3pSjf8kZZL4QVxS0', 'track_name': 'My Way', 'album_uri': 'spotify:album:0Cx7IYEdG2T70z9xFknhDT', 'duration_ms': 274933, 'album_name': 'Ultimate Sinatra'}, {'pos': 67, 'artist_name': 'Bruce Springsteen', 'track_uri': 'spotify:track:6hTcuIQa0sxrrByu9wTD7s', 'artist_uri': 'spotify:artist:3eqjTLE0HfPfh78zjh6TqT', 'track_name': 'Born to Run', 'album_uri': 'spotify:album:43YIoHKSrEw2GJsWmhZIpu', 'duration_ms': 269920, 'album_name': 'Born To Run'}, {'pos': 68, 'artist_name': 'Bruce Springsteen', 'track_uri': 'spotify:track:4LKlmGTWGY8SHfIw0c9jQu', 'artist_uri': 'spotify:artist:3eqjTLE0HfPfh78zjh6TqT', 'track_name': 'Wrecking Ball', 'album_uri': 'spotify:album:75kN1qUWvE10QcnpE6nEsM', 'duration_ms': 347600, 'album_name': 'Wrecking Ball'}, {'pos': 69, 'artist_name': 'John Mellencamp', 'track_uri': 'spotify:track:4z8D58IC56O0JH2B818SkX', 'artist_uri': 'spotify:artist:3lPQ2Fk5JOwGWAF3ORFCqH', 'track_name': \"Ain't Even Done With The Night\", 'album_uri': 'spotify:album:6mrE3jHtD2LLIskZ2XXRcd', 'duration_ms': 279066, 'album_name': \"Nothin' Matters And What If It Did\"}, {'pos': 70, 'artist_name': 'Bruce Springsteen', 'track_uri': 'spotify:track:56lhDZNQ5J47aog6mGKeGk', 'artist_uri': 'spotify:artist:3eqjTLE0HfPfh78zjh6TqT', 'track_name': 'Thunder Road', 'album_uri': 'spotify:album:43YIoHKSrEw2GJsWmhZIpu', 'duration_ms': 288720, 'album_name': 'Born To Run'}, {'pos': 71, 'artist_name': 'Bruce Springsteen', 'track_uri': 'spotify:track:2onCSZebZCcutH8kz8UnMS', 'artist_uri': 'spotify:artist:3eqjTLE0HfPfh78zjh6TqT', 'track_name': 'No Surrender', 'album_uri': 'spotify:album:14IYDXybb1XKu51QHDryak', 'duration_ms': 240000, 'album_name': 'Born In The U.S.A.'}, {'pos': 72, 'artist_name': 'Bruce Springsteen', 'track_uri': 'spotify:track:3R2q3FCnNIw2XhuEbYtYk6', 'artist_uri': 'spotify:artist:3eqjTLE0HfPfh78zjh6TqT', 'track_name': 'Jungleland', 'album_uri': 'spotify:album:43YIoHKSrEw2GJsWmhZIpu', 'duration_ms': 575653, 'album_name': 'Born To Run'}, {'pos': 73, 'artist_name': 'Eric Church', 'track_uri': 'spotify:track:6hr4weuSidHy2LNMw8UVJ2', 'artist_uri': 'spotify:artist:2IvkS5MXK0vPGnwyJsrEyV', 'track_name': 'Like A Wrecking Ball', 'album_uri': 'spotify:album:7Ad3sRoSJmRcjtd5Ce27Oj', 'duration_ms': 198906, 'album_name': 'The Outsiders'}, {'pos': 74, 'artist_name': 'Bruce Springsteen', 'track_uri': 'spotify:track:218wztz9mZdDX8Ia1OkUvq', 'artist_uri': 'spotify:artist:3eqjTLE0HfPfh78zjh6TqT', 'track_name': 'For You', 'album_uri': 'spotify:album:4hQ5RfHzq1SGJNfZWrpg7C', 'duration_ms': 279293, 'album_name': 'Greetings from Asbury Park, N.J.'}], 'num_edits': 28, 'duration_ms': 18425368, 'num_artists': 39}\n"
          ]
        }
      ],
      "source": [
        "with open(f\"{DATA_DIR}/{os.listdir(DATA_DIR)[0]}\") as jf:\n",
        "  example_file = json.load(jf)\n",
        "\n",
        "print(example_file['playlists'][0])"
      ]
    },
    {
      "cell_type": "code",
      "execution_count": 8,
      "metadata": {},
      "outputs": [],
      "source": [
        "\"\"\"\n",
        "Aquí definimos clases para los datos que vamos a cargar. Los datos están almacenados en archivos JSON,\n",
        "cada uno de los cuales contiene playlists, que a su vez contienen canciones. Así, definimos tres clases:\n",
        "  Cancion     --> contiene información sobre una canción específica (su id, nombre, etc.)\n",
        "  Playlist    --> contiene información sobre una playlist específica (su id, nombre, etc. y una lista de Canciones)\n",
        "  ArchivoJSON --> contiene el archivo JSON cargado y almacena un diccionario de todas las playlists\n",
        "\n",
        "Nota: si quisiéramos utilizar la información del artista, podríamos crear una clase Artista\n",
        "\"\"\"\n",
        "\n",
        "class Cancion:\n",
        "    \"\"\" \n",
        "    Clase simple para una canción, que contiene sus atributos:\n",
        "        1. URI (un id único)\n",
        "        2. Nombre\n",
        "        3. Información del artista (URI y nombre)\n",
        "        4. Playlist a la que pertenece\n",
        "    \"\"\"\n",
        "    \n",
        "    def __init__(self, datos_cancion, playlist):\n",
        "        self.uri = datos_cancion[\"track_uri\"]\n",
        "        self.nombre = datos_cancion[\"track_name\"]\n",
        "        self.artista_uri = datos_cancion[\"artist_uri\"]\n",
        "        self.artista_nombre = datos_cancion[\"artist_name\"]\n",
        "        self.playlist = playlist\n",
        "    \n",
        "    def __str__(self):\n",
        "        return f\"Canción {self.uri} llamada {self.nombre} por {self.artista_nombre} ({self.artista_uri}) en la playlist {self.playlist}.\"\n",
        "    \n",
        "    def __repr__(self):\n",
        "        return f\"Canción {self.uri}\"\n",
        "\n",
        "class Playlist:\n",
        "    \"\"\" \n",
        "    Clase simple para una playlist, que contiene sus atributos:\n",
        "        1. Nombre (playlist y su índice asociado)\n",
        "        2. Título (título de la playlist en el dataset de Spotify)\n",
        "        3. Diccionario cargado desde el JSON original para la playlist\n",
        "        4. Diccionario de canciones (track_uri : Cancion), que se llena con el método .cargar_canciones()\n",
        "        5. Lista de URIs de artistas\n",
        "    \"\"\"\n",
        "    \n",
        "    def __init__(self, datos_json, indice):\n",
        "        self.nombre = f\"playlist_{indice}\"\n",
        "        self.titulo = datos_json[\"name\"]\n",
        "        self.datos = datos_json\n",
        "\n",
        "        self.canciones = {}\n",
        "        self.artistas = []\n",
        "    \n",
        "    def cargar_canciones(self):\n",
        "        \"\"\" Llama a esta función para cargar todas las canciones en la playlist desde los datos del JSON. \"\"\"\n",
        "\n",
        "        lista_canciones = self.datos[\"tracks\"]\n",
        "        self.canciones = {x[\"track_uri\"] : Cancion(x, self.nombre) for x in lista_canciones}\n",
        "        self.artistas = [x[\"artist_uri\"] for x in lista_canciones]\n",
        "\n",
        "    def __str__(self):\n",
        "        return f\"Playlist {self.nombre} con {len(self.canciones)} canciones cargadas.\"\n",
        "    \n",
        "    def __repr__(self):\n",
        "        return f\"Playlist {self.nombre}\"\n",
        "\n",
        "class ArchivoJSON:\n",
        "    \"\"\" \n",
        "    Clase simple para un archivo JSON, que contiene sus atributos:\n",
        "        1. Nombre del archivo\n",
        "        2. Índice desde el cual comenzar a numerar las playlists\n",
        "        3. Diccionario cargado desde el JSON para todo el archivo\n",
        "        4. Diccionario de playlists (nombre : Playlist), que se llena con el método .procesar_archivo()\n",
        "    \"\"\"\n",
        "    \n",
        "    def __init__(self, ruta_datos, nombre_archivo, indice_inicio):\n",
        "        self.nombre_archivo = nombre_archivo\n",
        "        self.indice_inicio = indice_inicio\n",
        "\n",
        "        with open(os.path.join(ruta_datos, nombre_archivo)) as archivo_json:\n",
        "            datos_json = json.load(archivo_json)\n",
        "        self.datos = datos_json\n",
        "\n",
        "        self.playlists = {}\n",
        "\n",
        "    def procesar_archivo(self):\n",
        "        \"\"\" Llama a esta función para cargar todas las playlists desde los datos del archivo JSON. \"\"\"\n",
        "        \n",
        "        for i, playlist_json in enumerate(self.datos[\"playlists\"]):\n",
        "            playlist = Playlist(playlist_json, self.indice_inicio + i)\n",
        "            playlist.cargar_canciones()\n",
        "            self.playlists[playlist.nombre] = playlist\n",
        "\n",
        "    def __str__(self):\n",
        "        return f\"JSON {self.nombre_archivo} tiene {len(self.playlists)} playlists cargadas.\"\n",
        "    \n",
        "    def __repr__(self):\n",
        "        return self.nombre_archivo\n"
      ]
    },
    {
      "cell_type": "markdown",
      "metadata": {},
      "source": [
        "Cargar los archivos json "
      ]
    },
    {
      "cell_type": "code",
      "execution_count": 17,
      "metadata": {},
      "outputs": [
        {
          "name": "stderr",
          "output_type": "stream",
          "text": [
            "\n",
            "\n",
            "\n",
            "\u001b[A\u001b[A\u001b[AException ignored in: <function tqdm.__del__ at 0x123a26980>\n",
            "Traceback (most recent call last):\n",
            "  File \"/Users/mvrcentes/Library/CloudStorage/OneDrive-UVG/Documentos/Semestre_8/Data_Science/Data_Science_2024/myvenv/lib/python3.12/site-packages/tqdm/std.py\", line 1148, in __del__\n",
            "    self.close()\n",
            "  File \"/Users/mvrcentes/Library/CloudStorage/OneDrive-UVG/Documentos/Semestre_8/Data_Science/Data_Science_2024/myvenv/lib/python3.12/site-packages/tqdm/notebook.py\", line 279, in close\n",
            "    self.disp(bar_style='danger', check_delay=False)\n",
            "    ^^^^^^^^^\n",
            "AttributeError: 'tqdm_notebook' object has no attribute 'disp'\n",
            "Exception ignored in: <function tqdm.__del__ at 0x123a26980>\n",
            "Traceback (most recent call last):\n",
            "  File \"/Users/mvrcentes/Library/CloudStorage/OneDrive-UVG/Documentos/Semestre_8/Data_Science/Data_Science_2024/myvenv/lib/python3.12/site-packages/tqdm/std.py\", line 1148, in __del__\n",
            "    self.close()\n",
            "  File \"/Users/mvrcentes/Library/CloudStorage/OneDrive-UVG/Documentos/Semestre_8/Data_Science/Data_Science_2024/myvenv/lib/python3.12/site-packages/tqdm/notebook.py\", line 279, in close\n",
            "    self.disp(bar_style='danger', check_delay=False)\n",
            "    ^^^^^^^^^\n",
            "AttributeError: 'tqdm_notebook' object has no attribute 'disp'\n",
            "Exception ignored in: <function tqdm.__del__ at 0x123a26980>\n",
            "Traceback (most recent call last):\n",
            "  File \"/Users/mvrcentes/Library/CloudStorage/OneDrive-UVG/Documentos/Semestre_8/Data_Science/Data_Science_2024/myvenv/lib/python3.12/site-packages/tqdm/std.py\", line 1148, in __del__\n",
            "    self.close()\n",
            "  File \"/Users/mvrcentes/Library/CloudStorage/OneDrive-UVG/Documentos/Semestre_8/Data_Science/Data_Science_2024/myvenv/lib/python3.12/site-packages/tqdm/notebook.py\", line 279, in close\n",
            "    self.disp(bar_style='danger', check_delay=False)\n",
            "    ^^^^^^^^^\n",
            "AttributeError: 'tqdm_notebook' object has no attribute 'disp'\n",
            "\n",
            "\n",
            "\n",
            "\u001b[A\u001b[A\u001b[A\n",
            "\n",
            "\n",
            "\u001b[A\u001b[A\u001b[A\n",
            "\n",
            "\n",
            "\u001b[A\u001b[A\u001b[A\n",
            "\n",
            "\n",
            "\u001b[A\u001b[A\u001b[A\n",
            "\n",
            "\n",
            "\u001b[A\u001b[A\u001b[A\n",
            "\n",
            "\n",
            "\u001b[A\u001b[A\u001b[A\n",
            "\n",
            "\n",
            "\u001b[A\u001b[A\u001b[A\n",
            "\n",
            "\n",
            "\u001b[A\u001b[A\u001b[A\n",
            "\n",
            "\n",
            "\u001b[A\u001b[A\u001b[A\n",
            "\n",
            "\n",
            "\u001b[A\u001b[A\u001b[A\n",
            "\n",
            "\n",
            "\u001b[A\u001b[A\u001b[A\n",
            "\n",
            "\n",
            "\u001b[A\u001b[A\u001b[A\n",
            "\n",
            "\n",
            "\u001b[A\u001b[A\u001b[A\n",
            "\n",
            "\n",
            "\u001b[A\u001b[A\u001b[A\n",
            "\n",
            "\n",
            "\u001b[A\u001b[A\u001b[A\n",
            "\n",
            "\n",
            "\u001b[A\u001b[A\u001b[A\n",
            "\n",
            "\n",
            "\u001b[A\u001b[A\u001b[A\n",
            "\n",
            "\n",
            "\u001b[A\u001b[A\u001b[A\n",
            "\n",
            "\n",
            "\u001b[A\u001b[A\u001b[A\n",
            "\n",
            "\n",
            "\u001b[A\u001b[A\u001b[A\n",
            "\n",
            "\n",
            "\u001b[A\u001b[A\u001b[A\n",
            "\n",
            "\n",
            "\u001b[A\u001b[A\u001b[A\n",
            "\n",
            "\n",
            "\u001b[A\u001b[A\u001b[A\n",
            "\n",
            "\n",
            "\u001b[A\u001b[A\u001b[A\n",
            "\n",
            "\n",
            "\u001b[A\u001b[A\u001b[A\n",
            "\n",
            "\n",
            "\u001b[A\u001b[A\u001b[A\n",
            "\n",
            "\n",
            "\u001b[A\u001b[A\u001b[A\n",
            "\n",
            "\n",
            "\u001b[A\u001b[A\u001b[A\n",
            "\n",
            "\n",
            "\u001b[A\u001b[A\u001b[A\n",
            "\n",
            "\n",
            "\u001b[A\u001b[A\u001b[A\n",
            "\n",
            "\n",
            "\u001b[A\u001b[A\u001b[A\n",
            "\n",
            "\n",
            "\u001b[A\u001b[A\u001b[A\n",
            "\n",
            "\n",
            "\u001b[A\u001b[A\u001b[A\n",
            "\n",
            "\n",
            "\u001b[A\u001b[A\u001b[A\n",
            "\n",
            "\n",
            "\u001b[A\u001b[A\u001b[A\n",
            "\n",
            "\n",
            "\u001b[A\u001b[A\u001b[A\n",
            "\n",
            "\n",
            "\u001b[A\u001b[A\u001b[A\n",
            "\n",
            "\n",
            "\u001b[A\u001b[A\u001b[A\n",
            "\n",
            "\n",
            "\u001b[A\u001b[A\u001b[A\n",
            "\n",
            "\n",
            "\u001b[A\u001b[A\u001b[A\n",
            "\n",
            "\n",
            "\u001b[A\u001b[A\u001b[A\n",
            "\n",
            "\n",
            "\u001b[A\u001b[A\u001b[A\n",
            "\n",
            "\n",
            "\u001b[A\u001b[A\u001b[A\n",
            "\n",
            "\n",
            "\u001b[A\u001b[A\u001b[A\n",
            "\n",
            "\n",
            "\u001b[A\u001b[A\u001b[A\n",
            "\n",
            "\n",
            "\u001b[A\u001b[A\u001b[A\n",
            "\n",
            "\n",
            "\u001b[A\u001b[A\u001b[A\n",
            "\n",
            "\n",
            "\u001b[A\u001b[A\u001b[A\n",
            "\n",
            "\n",
            "\u001b[A\u001b[A\u001b[A\n",
            "\n",
            "\n",
            "Archivos procesados: 100%|██████████| 50/50 [00:18<00:00,  2.74archivos/s]\n"
          ]
        }
      ],
      "source": [
        "# Cargar cada archivo JSON y almacenarlo en una lista de archivos\n",
        "archivos_JSON = []\n",
        "for nombre_archivo in tqdm(archivos_a_usar, desc='Archivos procesados: ', unit='archivos', total=len(archivos_a_usar)):\n",
        "    archivo_json = ArchivoJSON(RUTA_DATOS, nombre_archivo, n_playlists)\n",
        "    archivo_json.procesar_archivo()\n",
        "    n_playlists += len(archivo_json.playlists)\n",
        "    archivos_JSON.append(archivo_json)\n"
      ]
    },
    {
      "cell_type": "code",
      "execution_count": 19,
      "metadata": {},
      "outputs": [
        {
          "name": "stderr",
          "output_type": "stream",
          "text": [
            "Procesando archivos JSON: 100%|██████████| 50/50 [00:01<00:00, 48.71archivo/s]\n"
          ]
        }
      ],
      "source": [
        "playlist_data = {}\n",
        "playlists = []\n",
        "tracks = []\n",
        "\n",
        "# Construir la lista de todas las playlists y pistas únicas\n",
        "for archivo_json in tqdm(archivos_JSON, desc='Procesando archivos JSON: ', unit='archivo'):\n",
        "    # Agregar los nombres de las playlists\n",
        "    playlists += [p.nombre for p in archivo_json.playlists.values()]\n",
        "    \n",
        "    # Agregar los URI de las canciones\n",
        "    tracks += [cancion.uri for playlist in archivo_json.playlists.values() for cancion in playlist.canciones.values()]\n",
        "    \n",
        "    # Combinar los datos de las playlists en el diccionario principal\n",
        "    playlist_data = playlist_data | archivo_json.playlists\n"
      ]
    },
    {
      "cell_type": "markdown",
      "metadata": {},
      "source": [
        "## Creación de un dataframe con los datos cargados"
      ]
    },
    {
      "cell_type": "code",
      "execution_count": 20,
      "metadata": {},
      "outputs": [],
      "source": [
        "canciones_data = []\n",
        "\n",
        "for archivo_json in archivos_JSON:\n",
        "    for playlist in archivo_json.playlists.values():\n",
        "        for cancion in playlist.canciones.values():\n",
        "            canciones_data.append({\n",
        "                'playlist_nombre': playlist.nombre,\n",
        "                'playlist_titulo': playlist.titulo,\n",
        "                'track_uri': cancion.uri,\n",
        "                'track_nombre': cancion.nombre,\n",
        "                'artista_uri': cancion.artista_uri,\n",
        "                'artista_nombre': cancion.artista_nombre\n",
        "            })\n",
        "\n",
        "# Convertir la lista de diccionarios en un DataFrame de pandas\n",
        "df = pd.DataFrame(canciones_data)"
      ]
    },
    {
      "cell_type": "markdown",
      "metadata": {},
      "source": [
        "## Descripción de los datos"
      ]
    },
    {
      "cell_type": "code",
      "execution_count": 21,
      "metadata": {},
      "outputs": [
        {
          "name": "stdout",
          "output_type": "stream",
          "text": [
            "  playlist_nombre playlist_titulo                             track_uri  \\\n",
            "0      playlist_0      Throwbacks  spotify:track:0UaMYEvWZi0ZqiDOoHU3YI   \n",
            "\n",
            "                                 track_nombre  \\\n",
            "0  Lose Control (feat. Ciara & Fat Man Scoop)   \n",
            "\n",
            "                             artista_uri artista_nombre  \n",
            "0  spotify:artist:2wIVse2owClT7go1WT98tk  Missy Elliott  \n"
          ]
        }
      ],
      "source": [
        "# Mostrar las primeras filas del DataFrame\n",
        "print(df.head(1))\n"
      ]
    },
    {
      "cell_type": "code",
      "execution_count": 22,
      "metadata": {},
      "outputs": [
        {
          "data": {
            "text/html": [
              "<div>\n",
              "<style scoped>\n",
              "    .dataframe tbody tr th:only-of-type {\n",
              "        vertical-align: middle;\n",
              "    }\n",
              "\n",
              "    .dataframe tbody tr th {\n",
              "        vertical-align: top;\n",
              "    }\n",
              "\n",
              "    .dataframe thead th {\n",
              "        text-align: right;\n",
              "    }\n",
              "</style>\n",
              "<table border=\"1\" class=\"dataframe\">\n",
              "  <thead>\n",
              "    <tr style=\"text-align: right;\">\n",
              "      <th></th>\n",
              "      <th>playlist_nombre</th>\n",
              "      <th>playlist_titulo</th>\n",
              "      <th>track_uri</th>\n",
              "      <th>track_nombre</th>\n",
              "      <th>artista_uri</th>\n",
              "      <th>artista_nombre</th>\n",
              "    </tr>\n",
              "  </thead>\n",
              "  <tbody>\n",
              "    <tr>\n",
              "      <th>count</th>\n",
              "      <td>3303932</td>\n",
              "      <td>3303932</td>\n",
              "      <td>3303932</td>\n",
              "      <td>3303932</td>\n",
              "      <td>3303932</td>\n",
              "      <td>3303932</td>\n",
              "    </tr>\n",
              "    <tr>\n",
              "      <th>unique</th>\n",
              "      <td>50000</td>\n",
              "      <td>18965</td>\n",
              "      <td>457016</td>\n",
              "      <td>332916</td>\n",
              "      <td>79189</td>\n",
              "      <td>78079</td>\n",
              "    </tr>\n",
              "    <tr>\n",
              "      <th>top</th>\n",
              "      <td>playlist_8520</td>\n",
              "      <td>Country</td>\n",
              "      <td>spotify:track:7KXjTSCq5nL1LoYtL7XAwS</td>\n",
              "      <td>Closer</td>\n",
              "      <td>spotify:artist:3TVXtAsR1Inumwj472S9r4</td>\n",
              "      <td>Drake</td>\n",
              "    </tr>\n",
              "    <tr>\n",
              "      <th>freq</th>\n",
              "      <td>250</td>\n",
              "      <td>65893</td>\n",
              "      <td>2252</td>\n",
              "      <td>3342</td>\n",
              "      <td>42345</td>\n",
              "      <td>42360</td>\n",
              "    </tr>\n",
              "  </tbody>\n",
              "</table>\n",
              "</div>"
            ],
            "text/plain": [
              "       playlist_nombre playlist_titulo                             track_uri  \\\n",
              "count          3303932         3303932                               3303932   \n",
              "unique           50000           18965                                457016   \n",
              "top      playlist_8520         Country  spotify:track:7KXjTSCq5nL1LoYtL7XAwS   \n",
              "freq               250           65893                                  2252   \n",
              "\n",
              "       track_nombre                            artista_uri artista_nombre  \n",
              "count       3303932                                3303932        3303932  \n",
              "unique       332916                                  79189          78079  \n",
              "top          Closer  spotify:artist:3TVXtAsR1Inumwj472S9r4          Drake  \n",
              "freq           3342                                  42345          42360  "
            ]
          },
          "execution_count": 22,
          "metadata": {},
          "output_type": "execute_result"
        }
      ],
      "source": [
        "df.describe()\n"
      ]
    },
    {
      "cell_type": "markdown",
      "metadata": {},
      "source": [
        "1. Cantidad de Datos (Count):\n",
        "* Todas las columnas (playlist_nombre, playlist_titulo, track_uri, track_nombre, artista_uri, y artista_nombre) contienen 3,303,932 entradas, lo que significa que tenemos información detallada sobre más de 3.3 millones de pistas musicales distribuidas en diferentes playlists.\n",
        "\n",
        "2. Variables Categóricas y Únicas (Unique):\n",
        "* Playlist Nombre: Hay un total de 50,000 playlists únicas en el conjunto de datos, lo que significa que algunas playlists contienen múltiples canciones y posiblemente estén repetidas en otros lugares.\n",
        "* Playlist Título: Hay 18,965 títulos únicos de playlists. Esto indica que algunas playlists comparten nombres pero contienen diferentes canciones.\n",
        "* Track URI: Existen 457,016 pistas únicas en el conjunto de datos. Esto sugiere que muchas pistas están repetidas en distintas playlists, lo cual es común en plataformas de streaming, donde una misma canción puede aparecer en varias listas de reproducción.\n",
        "* Track Nombre: Se identifican 332,916 títulos de canciones únicas, lo que indica que algunas pistas pueden compartir nombres pero ser versiones diferentes (por ejemplo, remixes o colaboraciones).\n",
        "* Artista URI: Hay 79,189 artistas únicos en el dataset.\n",
        "* Artista Nombre: Los nombres de artista únicos son 78,079, lo que indica una leve diferencia con los URIs de artistas, posiblemente debido a inconsistencias en el etiquetado o distintas versiones de los nombres de los artistas.\n",
        "\n",
        "3. Frecuencia y Popularidad:\n",
        "* La playlist más frecuente es playlist_8520, que aparece 250 veces en el conjunto de datos, siendo la playlist más recurrente.\n",
        "* El título de playlist más frecuente es \"Country\", que aparece 65,893 veces, indicando una alta popularidad de playlists relacionadas con este género.\n",
        "* La pista más repetida es \"Closer\" (URI: spotify:track:7KXjTSCq5nL1LoYtL7XAwS), que aparece 2,252 veces en distintas playlists.\n",
        "* El artista más frecuente es Drake (URI: spotify:artist:3TVXtAsR1Inumwj472S9r4), cuyas canciones aparecen 42,360 veces en las playlists.\n",
        "\n"
      ]
    },
    {
      "cell_type": "code",
      "execution_count": 23,
      "metadata": {},
      "outputs": [
        {
          "name": "stdout",
          "output_type": "stream",
          "text": [
            "<class 'pandas.core.frame.DataFrame'>\n",
            "RangeIndex: 3303932 entries, 0 to 3303931\n",
            "Data columns (total 6 columns):\n",
            " #   Column           Dtype \n",
            "---  ------           ----- \n",
            " 0   playlist_nombre  object\n",
            " 1   playlist_titulo  object\n",
            " 2   track_uri        object\n",
            " 3   track_nombre     object\n",
            " 4   artista_uri      object\n",
            " 5   artista_nombre   object\n",
            "dtypes: object(6)\n",
            "memory usage: 151.2+ MB\n"
          ]
        }
      ],
      "source": [
        "df.info()"
      ]
    },
    {
      "cell_type": "code",
      "execution_count": 27,
      "metadata": {},
      "outputs": [
        {
          "name": "stdout",
          "output_type": "stream",
          "text": [
            "Columna: playlist_nombre\n",
            "playlist_nombre\n",
            "<class 'str'>    3303932\n",
            "Name: count, dtype: int64\n",
            "Columna: playlist_titulo\n",
            "playlist_titulo\n",
            "<class 'str'>    3303932\n",
            "Name: count, dtype: int64\n",
            "Columna: track_uri\n",
            "track_uri\n",
            "<class 'str'>    3303932\n",
            "Name: count, dtype: int64\n",
            "Columna: track_nombre\n",
            "track_nombre\n",
            "<class 'str'>    3303932\n",
            "Name: count, dtype: int64\n",
            "Columna: artista_uri\n",
            "artista_uri\n",
            "<class 'str'>    3303932\n",
            "Name: count, dtype: int64\n",
            "Columna: artista_nombre\n",
            "artista_nombre\n",
            "<class 'str'>    3303932\n",
            "Name: count, dtype: int64\n"
          ]
        }
      ],
      "source": [
        "for column in df.select_dtypes(include='object').columns:\n",
        "    print(f\"Columna: {column}\")\n",
        "    print(df[column].apply(type).value_counts())\n"
      ]
    },
    {
      "cell_type": "code",
      "execution_count": 28,
      "metadata": {},
      "outputs": [
        {
          "name": "stdout",
          "output_type": "stream",
          "text": [
            "Todas las entradas en la columna 'playlist_nombre' son cadenas de texto.\n",
            "Todas las entradas en la columna 'playlist_titulo' son cadenas de texto.\n",
            "Todas las entradas en la columna 'track_uri' son cadenas de texto.\n",
            "Todas las entradas en la columna 'track_nombre' son cadenas de texto.\n",
            "Todas las entradas en la columna 'artista_uri' son cadenas de texto.\n",
            "Todas las entradas en la columna 'artista_nombre' son cadenas de texto.\n"
          ]
        }
      ],
      "source": [
        "# Verificar si todas las entradas en las columnas de tipo 'object' son cadenas de texto\n",
        "for column in df.select_dtypes(include='object').columns:\n",
        "    all_strings = df[column].apply(lambda x: isinstance(x, str)).all()\n",
        "    if all_strings:\n",
        "        print(f\"Todas las entradas en la columna '{column}' son cadenas de texto.\")\n",
        "    else:\n",
        "        print(f\"Algunas entradas en la columna '{column}' no son cadenas de texto.\")\n"
      ]
    },
    {
      "cell_type": "code",
      "execution_count": 29,
      "metadata": {},
      "outputs": [
        {
          "name": "stderr",
          "output_type": "stream",
          "text": [
            "/var/folders/h8/k3gpg6h97wv_mzlyws73msh80000gn/T/ipykernel_24091/41059988.py:2: FutureWarning: errors='ignore' is deprecated and will raise in a future version. Use to_numeric without passing `errors` and catch exceptions explicitly instead\n",
            "  df['track_uri'] = pd.to_numeric(df['track_uri'], errors='ignore')  # Solo si tiene números\n"
          ]
        }
      ],
      "source": [
        "# Ejemplo: Convertir una columna a tipo numérico si es necesario\n",
        "df['track_uri'] = pd.to_numeric(df['track_uri'], errors='ignore')  # Solo si tiene números\n"
      ]
    },
    {
      "cell_type": "markdown",
      "metadata": {},
      "source": [
        "## Limpieza de datos"
      ]
    },
    {
      "cell_type": "code",
      "execution_count": 24,
      "metadata": {},
      "outputs": [
        {
          "name": "stdout",
          "output_type": "stream",
          "text": [
            "playlist_nombre    0\n",
            "playlist_titulo    0\n",
            "track_uri          0\n",
            "track_nombre       0\n",
            "artista_uri        0\n",
            "artista_nombre     0\n",
            "dtype: int64\n"
          ]
        },
        {
          "name": "stderr",
          "output_type": "stream",
          "text": [
            "/var/folders/h8/k3gpg6h97wv_mzlyws73msh80000gn/T/ipykernel_24091/343811935.py:11: FutureWarning: A value is trying to be set on a copy of a DataFrame or Series through chained assignment using an inplace method.\n",
            "The behavior will change in pandas 3.0. This inplace method will never work because the intermediate object on which we are setting values always behaves as a copy.\n",
            "\n",
            "For example, when doing 'df[col].method(value, inplace=True)', try using 'df.method({col: value}, inplace=True)' or df[col] = df[col].method(value) instead, to perform the operation inplace on the original object.\n",
            "\n",
            "\n",
            "  df['playlist_nombre'].fillna(method='ffill', inplace=True)\n",
            "/var/folders/h8/k3gpg6h97wv_mzlyws73msh80000gn/T/ipykernel_24091/343811935.py:11: FutureWarning: Series.fillna with 'method' is deprecated and will raise in a future version. Use obj.ffill() or obj.bfill() instead.\n",
            "  df['playlist_nombre'].fillna(method='ffill', inplace=True)\n",
            "/var/folders/h8/k3gpg6h97wv_mzlyws73msh80000gn/T/ipykernel_24091/343811935.py:12: FutureWarning: A value is trying to be set on a copy of a DataFrame or Series through chained assignment using an inplace method.\n",
            "The behavior will change in pandas 3.0. This inplace method will never work because the intermediate object on which we are setting values always behaves as a copy.\n",
            "\n",
            "For example, when doing 'df[col].method(value, inplace=True)', try using 'df.method({col: value}, inplace=True)' or df[col] = df[col].method(value) instead, to perform the operation inplace on the original object.\n",
            "\n",
            "\n",
            "  df['artista_nombre'].fillna(method='ffill', inplace=True)\n",
            "/var/folders/h8/k3gpg6h97wv_mzlyws73msh80000gn/T/ipykernel_24091/343811935.py:12: FutureWarning: Series.fillna with 'method' is deprecated and will raise in a future version. Use obj.ffill() or obj.bfill() instead.\n",
            "  df['artista_nombre'].fillna(method='ffill', inplace=True)\n"
          ]
        },
        {
          "name": "stdout",
          "output_type": "stream",
          "text": [
            "playlist_nombre    0\n",
            "playlist_titulo    0\n",
            "track_uri          0\n",
            "track_nombre       0\n",
            "artista_uri        0\n",
            "artista_nombre     0\n",
            "dtype: int64\n"
          ]
        }
      ],
      "source": [
        "# Encontrar columnas con valores nulos\n",
        "null_columns = df.isnull().sum()\n",
        "\n",
        "# Mostrar los resultados de las columnas con valores nulos\n",
        "print(null_columns)\n",
        "\n",
        "# Eliminar filas duplicadas en todo el DataFrame\n",
        "df.drop_duplicates(inplace=True)\n",
        "\n",
        "# Rellenar valores nulos en las columnas 'playlist_nombre' y 'artista_nombre' con el valor anterior\n",
        "df['playlist_nombre'].fillna(method='ffill', inplace=True)\n",
        "df['artista_nombre'].fillna(method='ffill', inplace=True)\n",
        "\n",
        "# Verificar si aún quedan valores nulos\n",
        "print(df.isnull().sum())\n"
      ]
    },
    {
      "cell_type": "code",
      "execution_count": 26,
      "metadata": {},
      "outputs": [
        {
          "data": {
            "text/plain": [
              "(3303932, 6)"
            ]
          },
          "execution_count": 26,
          "metadata": {},
          "output_type": "execute_result"
        }
      ],
      "source": [
        "df.shape"
      ]
    },
    {
      "cell_type": "markdown",
      "metadata": {},
      "source": [
        "## Gráficos"
      ]
    },
    {
      "cell_type": "code",
      "execution_count": null,
      "metadata": {},
      "outputs": [],
      "source": []
    }
  ],
  "metadata": {
    "colab": {
      "provenance": []
    },
    "kernelspec": {
      "display_name": "Python 3",
      "name": "python3"
    },
    "language_info": {
      "codemirror_mode": {
        "name": "ipython",
        "version": 3
      },
      "file_extension": ".py",
      "mimetype": "text/x-python",
      "name": "python",
      "nbconvert_exporter": "python",
      "pygments_lexer": "ipython3",
      "version": "3.12.5"
    }
  },
  "nbformat": 4,
  "nbformat_minor": 0
}
